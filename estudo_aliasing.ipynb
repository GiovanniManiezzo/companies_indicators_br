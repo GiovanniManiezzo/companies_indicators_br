import seaborn as sns
import matplotlib.pyplot as plt
from scipy.signal import butter, lfilter

#plotar ro grafico de tickers
ibov['Close'].plot(label='IBOV')
plt.title('IBOV diário')
plt.grid()
plt.show()

#plotar ro grafico de tickers trimestral
ibov['Close'].resample('Q').last().plot(label='IBOV')
ibov_trimestral = ibov.resample('Q').last()
plt.title('IBOV trimestral')
plt.grid()
plt.show()

print(np.shape(ibov_trimestral))
print(type(ibov_trimestral))
#transformar trimestral em series


#usando filtro passa baixa para retirar efeito de aliasing
def butter_lowpass_filter(data, cutoff, fs,order=5):
    nyquist = 0.5 * fs
    normal_cutoff = cutoff / nyquist
    b, a = butter(order, normal_cutoff, btype='low', analog=False)
    y = lfilter(b, a, data)
    print("Filtro executado com sucesso")
    return y

cutoff = 1/63 # descarta frequências maiores que mensal
fs = 1 # frequência trimestral
filered_ibov = butter_lowpass_filter(ibov['Close'], cutoff, fs)
filtered_ibov = pd.Series(filered_ibov, index=ibov.index)
filtered_ibov.plot(label='IBOV')
plt.title('IBOV dário com filtro passa baixa')
plt.grid()
plt.show()

np.shape(filtered_ibov)
filtered_ibov
ibov_trimestral_filtered = filtered_ibov.resample('Q').last()
ibov_trimestral_filtered.plot(label='IBOV')
plt.title('IBOV trimestral com filtro passa baixa')
plt.grid()
plt.show()

ibov_trimestral_media = ibov['Close'].resample('Q').mean()
ibov_trimestral_media.plot(label='IBOV')
plt.title('IBOV trimestral média')
plt.grid()
plt.show()