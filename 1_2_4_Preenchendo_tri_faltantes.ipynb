{
 "cells": [
  {
   "cell_type": "code",
   "execution_count": 1,
   "metadata": {},
   "outputs": [],
   "source": [
    "import pandas as pd\n",
    "import numpy as np\n"
   ]
  },
  {
   "cell_type": "code",
   "execution_count": 30,
   "metadata": {},
   "outputs": [],
   "source": [
    "dict_empresas = {\"eletrobras\": pd.read_csv('clean_data\\\\dados_trimestrais_completos_2437.csv', sep=';', index_col=0),\n",
    "        \"tpaulista\": pd.read_csv('clean_data\\\\dados_trimestrais_completos_18376.csv', sep=';', index_col=0),\n",
    "        \"taesa\": pd.read_csv('clean_data\\\\dados_trimestrais_completos_20257.csv', sep=';', index_col=0),\n",
    "        \"alupar\": pd.read_csv('clean_data\\\\dados_trimestrais_completos_21490.csv', sep=';', index_col=0),\n",
    "    }"
   ]
  },
  {
   "cell_type": "code",
   "execution_count": 5,
   "metadata": {},
   "outputs": [
    {
     "name": "stdout",
     "output_type": "stream",
     "text": [
      "Índices diferentes: alupar\n"
     ]
    }
   ],
   "source": [
    "#compare the index\n",
    "indices = dict_empresas[\"eletrobras\"].index\n",
    "for empresa in dict_empresas:\n",
    "    if not dict_empresas[empresa].index.equals(indices):\n",
    "        print(f\"Índices diferentes: {empresa}\")"
   ]
  },
  {
   "cell_type": "code",
   "execution_count": 37,
   "metadata": {},
   "outputs": [
    {
     "data": {
      "text/html": [
       "<div>\n",
       "<style scoped>\n",
       "    .dataframe tbody tr th:only-of-type {\n",
       "        vertical-align: middle;\n",
       "    }\n",
       "\n",
       "    .dataframe tbody tr th {\n",
       "        vertical-align: top;\n",
       "    }\n",
       "\n",
       "    .dataframe thead th {\n",
       "        text-align: right;\n",
       "    }\n",
       "</style>\n",
       "<table border=\"1\" class=\"dataframe\">\n",
       "  <thead>\n",
       "    <tr style=\"text-align: right;\">\n",
       "      <th></th>\n",
       "      <th>3.01</th>\n",
       "      <th>3.02</th>\n",
       "      <th>3.03</th>\n",
       "      <th>3.04</th>\n",
       "      <th>3.05</th>\n",
       "      <th>3.06</th>\n",
       "      <th>3.07</th>\n",
       "      <th>3.08</th>\n",
       "      <th>3.09</th>\n",
       "      <th>3.10</th>\n",
       "      <th>3.11</th>\n",
       "      <th>3.99</th>\n",
       "    </tr>\n",
       "    <tr>\n",
       "      <th>DT_FIM_EXERC</th>\n",
       "      <th></th>\n",
       "      <th></th>\n",
       "      <th></th>\n",
       "      <th></th>\n",
       "      <th></th>\n",
       "      <th></th>\n",
       "      <th></th>\n",
       "      <th></th>\n",
       "      <th></th>\n",
       "      <th></th>\n",
       "      <th></th>\n",
       "      <th></th>\n",
       "    </tr>\n",
       "  </thead>\n",
       "  <tbody>\n",
       "    <tr>\n",
       "      <th>2011-03-31</th>\n",
       "      <td>293389.0</td>\n",
       "      <td>-94234.0</td>\n",
       "      <td>199155.0</td>\n",
       "      <td>-11628.0</td>\n",
       "      <td>187527.0</td>\n",
       "      <td>-34444.0</td>\n",
       "      <td>153083.0</td>\n",
       "      <td>-19058.0</td>\n",
       "      <td>134025.0</td>\n",
       "      <td>0.0</td>\n",
       "      <td>134025.0</td>\n",
       "      <td>0.0</td>\n",
       "    </tr>\n",
       "    <tr>\n",
       "      <th>2011-09-30</th>\n",
       "      <td>322241.0</td>\n",
       "      <td>-104842.0</td>\n",
       "      <td>217399.0</td>\n",
       "      <td>-22989.0</td>\n",
       "      <td>194410.0</td>\n",
       "      <td>-54647.0</td>\n",
       "      <td>139763.0</td>\n",
       "      <td>-24607.0</td>\n",
       "      <td>115156.0</td>\n",
       "      <td>0.0</td>\n",
       "      <td>115156.0</td>\n",
       "      <td>0.0</td>\n",
       "    </tr>\n",
       "    <tr>\n",
       "      <th>2011-12-31</th>\n",
       "      <td>598015.0</td>\n",
       "      <td>-173975.0</td>\n",
       "      <td>424040.0</td>\n",
       "      <td>-67577.0</td>\n",
       "      <td>356463.0</td>\n",
       "      <td>-110532.0</td>\n",
       "      <td>245931.0</td>\n",
       "      <td>-56068.0</td>\n",
       "      <td>189863.0</td>\n",
       "      <td>0.0</td>\n",
       "      <td>189863.0</td>\n",
       "      <td>0.0</td>\n",
       "    </tr>\n",
       "    <tr>\n",
       "      <th>2012-03-31</th>\n",
       "      <td>296251.0</td>\n",
       "      <td>-51254.0</td>\n",
       "      <td>244997.0</td>\n",
       "      <td>-25524.0</td>\n",
       "      <td>219473.0</td>\n",
       "      <td>-54361.0</td>\n",
       "      <td>165112.0</td>\n",
       "      <td>-23579.0</td>\n",
       "      <td>141533.0</td>\n",
       "      <td>0.0</td>\n",
       "      <td>141533.0</td>\n",
       "      <td>0.0</td>\n",
       "    </tr>\n",
       "    <tr>\n",
       "      <th>2012-06-30</th>\n",
       "      <td>325260.0</td>\n",
       "      <td>-84140.0</td>\n",
       "      <td>241120.0</td>\n",
       "      <td>-27316.0</td>\n",
       "      <td>213804.0</td>\n",
       "      <td>-55707.0</td>\n",
       "      <td>158097.0</td>\n",
       "      <td>-29390.0</td>\n",
       "      <td>128707.0</td>\n",
       "      <td>0.0</td>\n",
       "      <td>128707.0</td>\n",
       "      <td>0.0</td>\n",
       "    </tr>\n",
       "  </tbody>\n",
       "</table>\n",
       "</div>"
      ],
      "text/plain": [
       "                  3.01      3.02      3.03     3.04      3.05      3.06  \\\n",
       "DT_FIM_EXERC                                                              \n",
       "2011-03-31    293389.0  -94234.0  199155.0 -11628.0  187527.0  -34444.0   \n",
       "2011-09-30    322241.0 -104842.0  217399.0 -22989.0  194410.0  -54647.0   \n",
       "2011-12-31    598015.0 -173975.0  424040.0 -67577.0  356463.0 -110532.0   \n",
       "2012-03-31    296251.0  -51254.0  244997.0 -25524.0  219473.0  -54361.0   \n",
       "2012-06-30    325260.0  -84140.0  241120.0 -27316.0  213804.0  -55707.0   \n",
       "\n",
       "                  3.07     3.08      3.09  3.10      3.11  3.99  \n",
       "DT_FIM_EXERC                                                     \n",
       "2011-03-31    153083.0 -19058.0  134025.0   0.0  134025.0   0.0  \n",
       "2011-09-30    139763.0 -24607.0  115156.0   0.0  115156.0   0.0  \n",
       "2011-12-31    245931.0 -56068.0  189863.0   0.0  189863.0   0.0  \n",
       "2012-03-31    165112.0 -23579.0  141533.0   0.0  141533.0   0.0  \n",
       "2012-06-30    158097.0 -29390.0  128707.0   0.0  128707.0   0.0  "
      ]
     },
     "execution_count": 37,
     "metadata": {},
     "output_type": "execute_result"
    }
   ],
   "source": [
    "dict_empresas[\"alupar\"].head()\n"
   ]
  },
  {
   "cell_type": "code",
   "execution_count": 70,
   "metadata": {},
   "outputs": [],
   "source": [
    "dict_empresas[\"alupar\"].index = pd.to_datetime(dict_empresas[\"alupar\"].index, format='%Y-%m-%d')\n"
   ]
  },
  {
   "cell_type": "code",
   "execution_count": 69,
   "metadata": {},
   "outputs": [
    {
     "name": "stdout",
     "output_type": "stream",
     "text": [
      "                  3.01      3.02      3.03     3.04      3.05      3.06  \\\n",
      "DT_FIM_EXERC                                                              \n",
      "2011-03-31    293389.0  -94234.0  199155.0 -11628.0  187527.0  -34444.0   \n",
      "2011-09-30    322241.0 -104842.0  217399.0 -22989.0  194410.0  -54647.0   \n",
      "2011-12-31    598015.0 -173975.0  424040.0 -67577.0  356463.0 -110532.0   \n",
      "\n",
      "                  3.07     3.08      3.09  3.10      3.11  3.99  \n",
      "DT_FIM_EXERC                                                     \n",
      "2011-03-31    153083.0 -19058.0  134025.0   0.0  134025.0   0.0  \n",
      "2011-09-30    139763.0 -24607.0  115156.0   0.0  115156.0   0.0  \n",
      "2011-12-31    245931.0 -56068.0  189863.0   0.0  189863.0   0.0  \n",
      "(1, 12)\n",
      "<class 'pandas.core.frame.DataFrame'>\n",
      "<class 'numpy.ndarray'>\n"
     ]
    },
    {
     "ename": "ValueError",
     "evalue": "cannot set a row with mismatched columns",
     "output_type": "error",
     "traceback": [
      "\u001b[1;31m---------------------------------------------------------------------------\u001b[0m",
      "\u001b[1;31mValueError\u001b[0m                                Traceback (most recent call last)",
      "Cell \u001b[1;32mIn[69], line 11\u001b[0m\n\u001b[0;32m      8\u001b[0m \u001b[38;5;28mprint\u001b[39m(\u001b[38;5;28mtype\u001b[39m(registro_4tri_dividido\u001b[38;5;241m.\u001b[39mvalues))\n\u001b[0;32m     10\u001b[0m dict_empresas[\u001b[38;5;124m'\u001b[39m\u001b[38;5;124malupar\u001b[39m\u001b[38;5;124m'\u001b[39m]\u001b[38;5;241m.\u001b[39mloc[\u001b[38;5;124m'\u001b[39m\u001b[38;5;124m2011-12-31\u001b[39m\u001b[38;5;124m'\u001b[39m] \u001b[38;5;241m=\u001b[39m registro_4tri_dividido\u001b[38;5;241m.\u001b[39mvalues\n\u001b[1;32m---> 11\u001b[0m \u001b[43mdict_empresas\u001b[49m\u001b[43m[\u001b[49m\u001b[38;5;124;43m'\u001b[39;49m\u001b[38;5;124;43malupar\u001b[39;49m\u001b[38;5;124;43m'\u001b[39;49m\u001b[43m]\u001b[49m\u001b[38;5;241;43m.\u001b[39;49m\u001b[43mloc\u001b[49m\u001b[43m[\u001b[49m\u001b[38;5;124;43m'\u001b[39;49m\u001b[38;5;124;43m2011-06-30\u001b[39;49m\u001b[38;5;124;43m'\u001b[39;49m\u001b[43m]\u001b[49m \u001b[38;5;241m=\u001b[39m registro_4tri_dividido\u001b[38;5;241m.\u001b[39mvalues\n\u001b[0;32m     12\u001b[0m \u001b[38;5;66;03m#print(dict_empresas['alupar'].loc['2011-06-30'].shape)\u001b[39;00m\n\u001b[0;32m     13\u001b[0m \u001b[38;5;66;03m# END: dividir os valores contabeis de registro_4tri por 2\u001b[39;00m\n",
      "File \u001b[1;32m~\\AppData\\Local\\Packages\\PythonSoftwareFoundation.Python.3.11_qbz5n2kfra8p0\\LocalCache\\local-packages\\Python311\\site-packages\\pandas\\core\\indexing.py:885\u001b[0m, in \u001b[0;36m_LocationIndexer.__setitem__\u001b[1;34m(self, key, value)\u001b[0m\n\u001b[0;32m    882\u001b[0m \u001b[38;5;28mself\u001b[39m\u001b[38;5;241m.\u001b[39m_has_valid_setitem_indexer(key)\n\u001b[0;32m    884\u001b[0m iloc \u001b[38;5;241m=\u001b[39m \u001b[38;5;28mself\u001b[39m \u001b[38;5;28;01mif\u001b[39;00m \u001b[38;5;28mself\u001b[39m\u001b[38;5;241m.\u001b[39mname \u001b[38;5;241m==\u001b[39m \u001b[38;5;124m\"\u001b[39m\u001b[38;5;124miloc\u001b[39m\u001b[38;5;124m\"\u001b[39m \u001b[38;5;28;01melse\u001b[39;00m \u001b[38;5;28mself\u001b[39m\u001b[38;5;241m.\u001b[39mobj\u001b[38;5;241m.\u001b[39miloc\n\u001b[1;32m--> 885\u001b[0m \u001b[43miloc\u001b[49m\u001b[38;5;241;43m.\u001b[39;49m\u001b[43m_setitem_with_indexer\u001b[49m\u001b[43m(\u001b[49m\u001b[43mindexer\u001b[49m\u001b[43m,\u001b[49m\u001b[43m \u001b[49m\u001b[43mvalue\u001b[49m\u001b[43m,\u001b[49m\u001b[43m \u001b[49m\u001b[38;5;28;43mself\u001b[39;49m\u001b[38;5;241;43m.\u001b[39;49m\u001b[43mname\u001b[49m\u001b[43m)\u001b[49m\n",
      "File \u001b[1;32m~\\AppData\\Local\\Packages\\PythonSoftwareFoundation.Python.3.11_qbz5n2kfra8p0\\LocalCache\\local-packages\\Python311\\site-packages\\pandas\\core\\indexing.py:1883\u001b[0m, in \u001b[0;36m_iLocIndexer._setitem_with_indexer\u001b[1;34m(self, indexer, value, name)\u001b[0m\n\u001b[0;32m   1880\u001b[0m     indexer, missing \u001b[38;5;241m=\u001b[39m convert_missing_indexer(indexer)\n\u001b[0;32m   1882\u001b[0m     \u001b[38;5;28;01mif\u001b[39;00m missing:\n\u001b[1;32m-> 1883\u001b[0m         \u001b[38;5;28;43mself\u001b[39;49m\u001b[38;5;241;43m.\u001b[39;49m\u001b[43m_setitem_with_indexer_missing\u001b[49m\u001b[43m(\u001b[49m\u001b[43mindexer\u001b[49m\u001b[43m,\u001b[49m\u001b[43m \u001b[49m\u001b[43mvalue\u001b[49m\u001b[43m)\u001b[49m\n\u001b[0;32m   1884\u001b[0m         \u001b[38;5;28;01mreturn\u001b[39;00m\n\u001b[0;32m   1886\u001b[0m \u001b[38;5;28;01mif\u001b[39;00m name \u001b[38;5;241m==\u001b[39m \u001b[38;5;124m\"\u001b[39m\u001b[38;5;124mloc\u001b[39m\u001b[38;5;124m\"\u001b[39m:\n\u001b[0;32m   1887\u001b[0m     \u001b[38;5;66;03m# must come after setting of missing\u001b[39;00m\n",
      "File \u001b[1;32m~\\AppData\\Local\\Packages\\PythonSoftwareFoundation.Python.3.11_qbz5n2kfra8p0\\LocalCache\\local-packages\\Python311\\site-packages\\pandas\\core\\indexing.py:2219\u001b[0m, in \u001b[0;36m_iLocIndexer._setitem_with_indexer_missing\u001b[1;34m(self, indexer, value)\u001b[0m\n\u001b[0;32m   2216\u001b[0m     \u001b[38;5;28;01mif\u001b[39;00m is_list_like_indexer(value):\n\u001b[0;32m   2217\u001b[0m         \u001b[38;5;66;03m# must have conforming columns\u001b[39;00m\n\u001b[0;32m   2218\u001b[0m         \u001b[38;5;28;01mif\u001b[39;00m \u001b[38;5;28mlen\u001b[39m(value) \u001b[38;5;241m!=\u001b[39m \u001b[38;5;28mlen\u001b[39m(\u001b[38;5;28mself\u001b[39m\u001b[38;5;241m.\u001b[39mobj\u001b[38;5;241m.\u001b[39mcolumns):\n\u001b[1;32m-> 2219\u001b[0m             \u001b[38;5;28;01mraise\u001b[39;00m \u001b[38;5;167;01mValueError\u001b[39;00m(\u001b[38;5;124m\"\u001b[39m\u001b[38;5;124mcannot set a row with mismatched columns\u001b[39m\u001b[38;5;124m\"\u001b[39m)\n\u001b[0;32m   2221\u001b[0m     value \u001b[38;5;241m=\u001b[39m Series(value, index\u001b[38;5;241m=\u001b[39m\u001b[38;5;28mself\u001b[39m\u001b[38;5;241m.\u001b[39mobj\u001b[38;5;241m.\u001b[39mcolumns, name\u001b[38;5;241m=\u001b[39mindexer)\n\u001b[0;32m   2223\u001b[0m \u001b[38;5;28;01mif\u001b[39;00m \u001b[38;5;129;01mnot\u001b[39;00m \u001b[38;5;28mlen\u001b[39m(\u001b[38;5;28mself\u001b[39m\u001b[38;5;241m.\u001b[39mobj):\n\u001b[0;32m   2224\u001b[0m     \u001b[38;5;66;03m# We will ignore the existing dtypes instead of using\u001b[39;00m\n\u001b[0;32m   2225\u001b[0m     \u001b[38;5;66;03m#  internals.concat logic\u001b[39;00m\n",
      "\u001b[1;31mValueError\u001b[0m: cannot set a row with mismatched columns"
     ]
    }
   ],
   "source": [
    "if '2011-06-30' not in dict_empresas['alupar'].index:\n",
    "    print(dict_empresas['alupar'][dict_empresas['alupar'].index.year == 2011])\n",
    "    registro_4tri = dict_empresas['alupar'][dict_empresas['alupar'].index == '2011-12-31']\n",
    "    registro_4tri\n",
    "    # BEGIN: dividir os valores contabeis de registro_4tri por 2\n",
    "    registro_4tri_dividido = registro_4tri / 2\n",
    "    print(registro_4tri.shape)\n",
    "    print(type(registro_4tri_dividido))\n",
    "    print(type(registro_4tri_dividido.values))\n",
    "    registro_4tri_dividido.drop\n",
    "\n",
    "    dict_empresas['alupar'].loc['2011-12-31'] = registro_4tri_dividido.values\n",
    "    dict_empresas['alupar'].loc['2011-06-30'] = registro_4tri_dividido.values"
   ]
  },
  {
   "cell_type": "code",
   "execution_count": 77,
   "metadata": {},
   "outputs": [],
   "source": [
    "dict_empresas['alupar'].loc[pd.Timestamp('2011-06-30')] = dict_empresas['alupar'].loc['2011-12-31']\n"
   ]
  },
  {
   "cell_type": "code",
   "execution_count": 78,
   "metadata": {},
   "outputs": [
    {
     "data": {
      "text/plain": [
       "3.01    299007.5\n",
       "3.02    -86987.5\n",
       "3.03    212020.0\n",
       "3.04    -33788.5\n",
       "3.05    178231.5\n",
       "3.06    -55266.0\n",
       "3.07    122965.5\n",
       "3.08    -28034.0\n",
       "3.09     94931.5\n",
       "3.10         0.0\n",
       "3.11     94931.5\n",
       "3.99         0.0\n",
       "Name: 2011-06-30 00:00:00, dtype: float64"
      ]
     },
     "execution_count": 78,
     "metadata": {},
     "output_type": "execute_result"
    }
   ],
   "source": [
    "dict_empresas['alupar'].loc['2011-06-30']"
   ]
  },
  {
   "cell_type": "code",
   "execution_count": 79,
   "metadata": {},
   "outputs": [],
   "source": [
    "dict_empresas['alupar'].to_csv('clean_data\\\\dados_trimestrais_completos_21490.csv', sep=';')\n",
    "    "
   ]
  }
 ],
 "metadata": {
  "kernelspec": {
   "display_name": "Python 3",
   "language": "python",
   "name": "python3"
  },
  "language_info": {
   "codemirror_mode": {
    "name": "ipython",
    "version": 3
   },
   "file_extension": ".py",
   "mimetype": "text/x-python",
   "name": "python",
   "nbconvert_exporter": "python",
   "pygments_lexer": "ipython3",
   "version": "3.11.9"
  }
 },
 "nbformat": 4,
 "nbformat_minor": 2
}
